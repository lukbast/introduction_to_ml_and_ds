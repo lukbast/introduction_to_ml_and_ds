{
 "cells": [
  {
   "cell_type": "markdown",
   "id": "ec5e50f1",
   "metadata": {},
   "source": [
    "# Predicting the Sale Price of Bulldozers using Machine learning"
   ]
  },
  {
   "cell_type": "markdown",
   "id": "58303cfb",
   "metadata": {},
   "source": [
    "## 1. Problem definition\n",
    "\n",
    "> How well can we predict the future sale price of a bulldozer, given its characteristics and previous examples of how much similar bulldozers have been sold for?"
   ]
  },
  {
   "cell_type": "markdown",
   "id": "7bc58fca",
   "metadata": {},
   "source": [
    "## 2.Data\n",
    "\n",
    "The data is downoladed from the Kaggle Bluebook for Bulldozers competition:\n",
    "https://www.kaggle.com/c/bluebook-for-bulldozers/data\n",
    "\n",
    "There are 3 main datasets:\n",
    "* Train.csv is the training set, which contains data through the end of 2011.\n",
    "* Valid.csv is the validation set, which contains data from January 1, 2012 - April 30, 2012.\n",
    "* Test.csv is the test set. It contains data from May 1, 2012 - November 2012."
   ]
  },
  {
   "cell_type": "markdown",
   "id": "c80849cb",
   "metadata": {},
   "source": [
    "## 3. Evaludation\n",
    "\n",
    "The evaluation metric is the RMSLE (root mean squared log error) between the actual and predicted auction prices. \n",
    "\n",
    "Goal for the this project is to crate a model with minimum RMSLE."
   ]
  },
  {
   "cell_type": "markdown",
   "id": "bd6027cd",
   "metadata": {},
   "source": [
    "## 4. Features\n",
    "\n",
    "Kaggle provides a data dictionary detailing all of the features of the dataset."
   ]
  },
  {
   "cell_type": "code",
   "execution_count": 31,
   "id": "42d88954",
   "metadata": {},
   "outputs": [
    {
     "name": "stderr",
     "output_type": "stream",
     "text": [
      "c:\\MLandDS\\bulldozer_pricing_project\\env\\lib\\site-packages\\openpyxl\\worksheet\\_reader.py:312: UserWarning: Unknown extension is not supported and will be removed\n",
      "  warn(msg)\n"
     ]
    },
    {
     "data": {
      "text/html": [
       "<div>\n",
       "<style scoped>\n",
       "    .dataframe tbody tr th:only-of-type {\n",
       "        vertical-align: middle;\n",
       "    }\n",
       "\n",
       "    .dataframe tbody tr th {\n",
       "        vertical-align: top;\n",
       "    }\n",
       "\n",
       "    .dataframe thead th {\n",
       "        text-align: right;\n",
       "    }\n",
       "</style>\n",
       "<table border=\"1\" class=\"dataframe\">\n",
       "  <thead>\n",
       "    <tr style=\"text-align: right;\">\n",
       "      <th></th>\n",
       "      <th>Variable</th>\n",
       "      <th>Description</th>\n",
       "    </tr>\n",
       "  </thead>\n",
       "  <tbody>\n",
       "    <tr>\n",
       "      <th>0</th>\n",
       "      <td>SalesID</td>\n",
       "      <td>unique identifier of a particular sale of a machine at auction</td>\n",
       "    </tr>\n",
       "    <tr>\n",
       "      <th>1</th>\n",
       "      <td>MachineID</td>\n",
       "      <td>identifier for a particular machine;  machines may have multiple sales</td>\n",
       "    </tr>\n",
       "    <tr>\n",
       "      <th>2</th>\n",
       "      <td>ModelID</td>\n",
       "      <td>identifier for a unique machine model (i.e. fiModelDesc)</td>\n",
       "    </tr>\n",
       "    <tr>\n",
       "      <th>3</th>\n",
       "      <td>datasource</td>\n",
       "      <td>source of the sale record;  some sources are more diligent about reporting attributes of the machine than others.  Note that a particular datasource may report on multiple auctioneerIDs.</td>\n",
       "    </tr>\n",
       "    <tr>\n",
       "      <th>4</th>\n",
       "      <td>auctioneerID</td>\n",
       "      <td>identifier of a particular auctioneer, i.e. company that sold the machine at auction.  Not the same as datasource.</td>\n",
       "    </tr>\n",
       "    <tr>\n",
       "      <th>5</th>\n",
       "      <td>YearMade</td>\n",
       "      <td>year of manufacturer of the Machine</td>\n",
       "    </tr>\n",
       "    <tr>\n",
       "      <th>6</th>\n",
       "      <td>MachineHoursCurrentMeter</td>\n",
       "      <td>current usage of the machine in hours at time of sale (saledate);  null or 0 means no hours have been reported for that sale</td>\n",
       "    </tr>\n",
       "    <tr>\n",
       "      <th>7</th>\n",
       "      <td>UsageBand</td>\n",
       "      <td>value (low, medium, high) calculated comparing this particular Machine-Sale hours to average usage for the fiBaseModel;  e.g. 'Low' means this machine has less hours given it's lifespan relative to average of fiBaseModel.</td>\n",
       "    </tr>\n",
       "    <tr>\n",
       "      <th>8</th>\n",
       "      <td>Saledate</td>\n",
       "      <td>time of sale</td>\n",
       "    </tr>\n",
       "    <tr>\n",
       "      <th>9</th>\n",
       "      <td>Saleprice</td>\n",
       "      <td>cost of sale in USD</td>\n",
       "    </tr>\n",
       "    <tr>\n",
       "      <th>10</th>\n",
       "      <td>fiModelDesc</td>\n",
       "      <td>Description of a unique machine model (see ModelID); concatenation of fiBaseModel &amp; fiSecondaryDesc &amp; fiModelSeries &amp; fiModelDescriptor</td>\n",
       "    </tr>\n",
       "    <tr>\n",
       "      <th>11</th>\n",
       "      <td>fiBaseModel</td>\n",
       "      <td>disaggregation of fiModelDesc</td>\n",
       "    </tr>\n",
       "    <tr>\n",
       "      <th>12</th>\n",
       "      <td>fiSecondaryDesc</td>\n",
       "      <td>disaggregation of fiModelDesc</td>\n",
       "    </tr>\n",
       "    <tr>\n",
       "      <th>13</th>\n",
       "      <td>fiModelSeries</td>\n",
       "      <td>disaggregation of fiModelDesc</td>\n",
       "    </tr>\n",
       "    <tr>\n",
       "      <th>14</th>\n",
       "      <td>fiModelDescriptor</td>\n",
       "      <td>disaggregation of fiModelDesc</td>\n",
       "    </tr>\n",
       "    <tr>\n",
       "      <th>15</th>\n",
       "      <td>ProductSize</td>\n",
       "      <td>Don't know what this is</td>\n",
       "    </tr>\n",
       "    <tr>\n",
       "      <th>16</th>\n",
       "      <td>ProductClassDesc</td>\n",
       "      <td>description of 2nd level hierarchical grouping (below ProductGroup) of fiModelDesc</td>\n",
       "    </tr>\n",
       "    <tr>\n",
       "      <th>17</th>\n",
       "      <td>State</td>\n",
       "      <td>US State in which sale occurred</td>\n",
       "    </tr>\n",
       "    <tr>\n",
       "      <th>18</th>\n",
       "      <td>ProductGroup</td>\n",
       "      <td>identifier for top-level hierarchical grouping of fiModelDesc</td>\n",
       "    </tr>\n",
       "    <tr>\n",
       "      <th>19</th>\n",
       "      <td>ProductGroupDesc</td>\n",
       "      <td>description of top-level hierarchical grouping of fiModelDesc</td>\n",
       "    </tr>\n",
       "    <tr>\n",
       "      <th>20</th>\n",
       "      <td>Drive_System</td>\n",
       "      <td>machine configuration;  typcially describes whether 2 or 4 wheel drive</td>\n",
       "    </tr>\n",
       "    <tr>\n",
       "      <th>21</th>\n",
       "      <td>Enclosure</td>\n",
       "      <td>machine configuration - does machine have an enclosed cab or not</td>\n",
       "    </tr>\n",
       "    <tr>\n",
       "      <th>22</th>\n",
       "      <td>Forks</td>\n",
       "      <td>machine configuration - attachment used for lifting</td>\n",
       "    </tr>\n",
       "    <tr>\n",
       "      <th>23</th>\n",
       "      <td>Pad_Type</td>\n",
       "      <td>machine configuration - type of treads a crawler machine uses</td>\n",
       "    </tr>\n",
       "    <tr>\n",
       "      <th>24</th>\n",
       "      <td>Ride_Control</td>\n",
       "      <td>machine configuration - optional feature on loaders to make the ride smoother</td>\n",
       "    </tr>\n",
       "    <tr>\n",
       "      <th>25</th>\n",
       "      <td>Stick</td>\n",
       "      <td>machine configuration - type of control</td>\n",
       "    </tr>\n",
       "    <tr>\n",
       "      <th>26</th>\n",
       "      <td>Transmission</td>\n",
       "      <td>machine configuration - describes type of transmission;  typically automatic or manual</td>\n",
       "    </tr>\n",
       "    <tr>\n",
       "      <th>27</th>\n",
       "      <td>Turbocharged</td>\n",
       "      <td>machine configuration - engine naturally aspirated or turbocharged</td>\n",
       "    </tr>\n",
       "    <tr>\n",
       "      <th>28</th>\n",
       "      <td>Blade_Extension</td>\n",
       "      <td>machine configuration - extension of standard blade</td>\n",
       "    </tr>\n",
       "    <tr>\n",
       "      <th>29</th>\n",
       "      <td>Blade_Width</td>\n",
       "      <td>machine configuration - width of blade</td>\n",
       "    </tr>\n",
       "    <tr>\n",
       "      <th>30</th>\n",
       "      <td>Enclosure_Type</td>\n",
       "      <td>machine configuration - does machine have an enclosed cab or not</td>\n",
       "    </tr>\n",
       "    <tr>\n",
       "      <th>31</th>\n",
       "      <td>Engine_Horsepower</td>\n",
       "      <td>machine configuration - engine horsepower rating</td>\n",
       "    </tr>\n",
       "    <tr>\n",
       "      <th>32</th>\n",
       "      <td>Hydraulics</td>\n",
       "      <td>machine configuration - type of hydraulics</td>\n",
       "    </tr>\n",
       "    <tr>\n",
       "      <th>33</th>\n",
       "      <td>Pushblock</td>\n",
       "      <td>machine configuration - option</td>\n",
       "    </tr>\n",
       "    <tr>\n",
       "      <th>34</th>\n",
       "      <td>Ripper</td>\n",
       "      <td>machine configuration - implement attached to machine to till soil</td>\n",
       "    </tr>\n",
       "    <tr>\n",
       "      <th>35</th>\n",
       "      <td>Scarifier</td>\n",
       "      <td>machine configuration - implement attached to machine to condition soil</td>\n",
       "    </tr>\n",
       "    <tr>\n",
       "      <th>36</th>\n",
       "      <td>Tip_control</td>\n",
       "      <td>machine configuration - type of blade control</td>\n",
       "    </tr>\n",
       "    <tr>\n",
       "      <th>37</th>\n",
       "      <td>Tire_Size</td>\n",
       "      <td>machine configuration - size of primary tires</td>\n",
       "    </tr>\n",
       "    <tr>\n",
       "      <th>38</th>\n",
       "      <td>Coupler</td>\n",
       "      <td>machine configuration - type of implement interface</td>\n",
       "    </tr>\n",
       "    <tr>\n",
       "      <th>39</th>\n",
       "      <td>Coupler_System</td>\n",
       "      <td>machine configuration - type of implement interface</td>\n",
       "    </tr>\n",
       "    <tr>\n",
       "      <th>40</th>\n",
       "      <td>Grouser_Tracks</td>\n",
       "      <td>machine configuration - describes ground contact interface</td>\n",
       "    </tr>\n",
       "    <tr>\n",
       "      <th>41</th>\n",
       "      <td>Hydraulics_Flow</td>\n",
       "      <td>machine configuration - normal or high flow hydraulic system</td>\n",
       "    </tr>\n",
       "    <tr>\n",
       "      <th>42</th>\n",
       "      <td>Track_Type</td>\n",
       "      <td>machine configuration - type of treads a crawler machine uses</td>\n",
       "    </tr>\n",
       "    <tr>\n",
       "      <th>43</th>\n",
       "      <td>Undercarriage_Pad_Width</td>\n",
       "      <td>machine configuration - width of crawler treads</td>\n",
       "    </tr>\n",
       "    <tr>\n",
       "      <th>44</th>\n",
       "      <td>Stick_Length</td>\n",
       "      <td>machine configuration - length of machine digging implement</td>\n",
       "    </tr>\n",
       "    <tr>\n",
       "      <th>45</th>\n",
       "      <td>Thumb</td>\n",
       "      <td>machine configuration - attachment used for grabbing</td>\n",
       "    </tr>\n",
       "    <tr>\n",
       "      <th>46</th>\n",
       "      <td>Pattern_Changer</td>\n",
       "      <td>machine configuration - can adjust the operator control configuration to suit the user</td>\n",
       "    </tr>\n",
       "    <tr>\n",
       "      <th>47</th>\n",
       "      <td>Grouser_Type</td>\n",
       "      <td>machine configuration - type of treads a crawler machine uses</td>\n",
       "    </tr>\n",
       "    <tr>\n",
       "      <th>48</th>\n",
       "      <td>Backhoe_Mounting</td>\n",
       "      <td>machine configuration - optional interface used to add a backhoe attachment</td>\n",
       "    </tr>\n",
       "    <tr>\n",
       "      <th>49</th>\n",
       "      <td>Blade_Type</td>\n",
       "      <td>machine configuration - describes type of blade</td>\n",
       "    </tr>\n",
       "    <tr>\n",
       "      <th>50</th>\n",
       "      <td>Travel_Controls</td>\n",
       "      <td>machine configuration - describes operator control configuration</td>\n",
       "    </tr>\n",
       "    <tr>\n",
       "      <th>51</th>\n",
       "      <td>Differential_Type</td>\n",
       "      <td>machine configuration - differential type, typically locking or standard</td>\n",
       "    </tr>\n",
       "    <tr>\n",
       "      <th>52</th>\n",
       "      <td>Steering_Controls</td>\n",
       "      <td>machine configuration - describes operator control configuration</td>\n",
       "    </tr>\n",
       "  </tbody>\n",
       "</table>\n",
       "</div>"
      ],
      "text/plain": [
       "                    Variable  \\\n",
       "0                    SalesID   \n",
       "1                  MachineID   \n",
       "2                    ModelID   \n",
       "3                 datasource   \n",
       "4               auctioneerID   \n",
       "5                   YearMade   \n",
       "6   MachineHoursCurrentMeter   \n",
       "7                  UsageBand   \n",
       "8                   Saledate   \n",
       "9                  Saleprice   \n",
       "10               fiModelDesc   \n",
       "11               fiBaseModel   \n",
       "12           fiSecondaryDesc   \n",
       "13             fiModelSeries   \n",
       "14         fiModelDescriptor   \n",
       "15               ProductSize   \n",
       "16          ProductClassDesc   \n",
       "17                     State   \n",
       "18              ProductGroup   \n",
       "19          ProductGroupDesc   \n",
       "20              Drive_System   \n",
       "21                 Enclosure   \n",
       "22                     Forks   \n",
       "23                  Pad_Type   \n",
       "24              Ride_Control   \n",
       "25                     Stick   \n",
       "26              Transmission   \n",
       "27              Turbocharged   \n",
       "28           Blade_Extension   \n",
       "29               Blade_Width   \n",
       "30            Enclosure_Type   \n",
       "31         Engine_Horsepower   \n",
       "32                Hydraulics   \n",
       "33                 Pushblock   \n",
       "34                    Ripper   \n",
       "35                 Scarifier   \n",
       "36               Tip_control   \n",
       "37                 Tire_Size   \n",
       "38                   Coupler   \n",
       "39            Coupler_System   \n",
       "40            Grouser_Tracks   \n",
       "41           Hydraulics_Flow   \n",
       "42                Track_Type   \n",
       "43   Undercarriage_Pad_Width   \n",
       "44              Stick_Length   \n",
       "45                     Thumb   \n",
       "46           Pattern_Changer   \n",
       "47              Grouser_Type   \n",
       "48          Backhoe_Mounting   \n",
       "49                Blade_Type   \n",
       "50           Travel_Controls   \n",
       "51         Differential_Type   \n",
       "52         Steering_Controls   \n",
       "\n",
       "                                                                                                                                                                                                                        Description  \n",
       "0                                                                                                                                                                    unique identifier of a particular sale of a machine at auction  \n",
       "1                                                                                                                                                            identifier for a particular machine;  machines may have multiple sales  \n",
       "2                                                                                                                                                                          identifier for a unique machine model (i.e. fiModelDesc)  \n",
       "3                                        source of the sale record;  some sources are more diligent about reporting attributes of the machine than others.  Note that a particular datasource may report on multiple auctioneerIDs.  \n",
       "4                                                                                                                identifier of a particular auctioneer, i.e. company that sold the machine at auction.  Not the same as datasource.  \n",
       "5                                                                                                                                                                                               year of manufacturer of the Machine  \n",
       "6                                                                                                      current usage of the machine in hours at time of sale (saledate);  null or 0 means no hours have been reported for that sale  \n",
       "7     value (low, medium, high) calculated comparing this particular Machine-Sale hours to average usage for the fiBaseModel;  e.g. 'Low' means this machine has less hours given it's lifespan relative to average of fiBaseModel.  \n",
       "8                                                                                                                                                                                                                      time of sale  \n",
       "9                                                                                                                                                                                                               cost of sale in USD  \n",
       "10                                                                                          Description of a unique machine model (see ModelID); concatenation of fiBaseModel & fiSecondaryDesc & fiModelSeries & fiModelDescriptor  \n",
       "11                                                                                                                                                                                                    disaggregation of fiModelDesc  \n",
       "12                                                                                                                                                                                                    disaggregation of fiModelDesc  \n",
       "13                                                                                                                                                                                                    disaggregation of fiModelDesc  \n",
       "14                                                                                                                                                                                                    disaggregation of fiModelDesc  \n",
       "15                                                                                                                                                                                                         Don't know what this is   \n",
       "16                                                                                                                                               description of 2nd level hierarchical grouping (below ProductGroup) of fiModelDesc  \n",
       "17                                                                                                                                                                                                  US State in which sale occurred  \n",
       "18                                                                                                                                                                    identifier for top-level hierarchical grouping of fiModelDesc  \n",
       "19                                                                                                                                                                    description of top-level hierarchical grouping of fiModelDesc  \n",
       "20                                                                                                                                                           machine configuration;  typcially describes whether 2 or 4 wheel drive  \n",
       "21                                                                                                                                                                 machine configuration - does machine have an enclosed cab or not  \n",
       "22                                                                                                                                                                              machine configuration - attachment used for lifting  \n",
       "23                                                                                                                                                                    machine configuration - type of treads a crawler machine uses  \n",
       "24                                                                                                                                                    machine configuration - optional feature on loaders to make the ride smoother  \n",
       "25                                                                                                                                                                                         machine configuration - type of control   \n",
       "26                                                                                                                                           machine configuration - describes type of transmission;  typically automatic or manual  \n",
       "27                                                                                                                                                               machine configuration - engine naturally aspirated or turbocharged  \n",
       "28                                                                                                                                                                              machine configuration - extension of standard blade  \n",
       "29                                                                                                                                                                                           machine configuration - width of blade  \n",
       "30                                                                                                                                                                 machine configuration - does machine have an enclosed cab or not  \n",
       "31                                                                                                                                                                                 machine configuration - engine horsepower rating  \n",
       "32                                                                                                                                                                                       machine configuration - type of hydraulics  \n",
       "33                                                                                                                                                                                                   machine configuration - option  \n",
       "34                                                                                                                                                               machine configuration - implement attached to machine to till soil  \n",
       "35                                                                                                                                                          machine configuration - implement attached to machine to condition soil  \n",
       "36                                                                                                                                                                                    machine configuration - type of blade control  \n",
       "37                                                                                                                                                                                    machine configuration - size of primary tires  \n",
       "38                                                                                                                                                                              machine configuration - type of implement interface  \n",
       "39                                                                                                                                                                              machine configuration - type of implement interface  \n",
       "40                                                                                                                                                                       machine configuration - describes ground contact interface  \n",
       "41                                                                                                                                                                     machine configuration - normal or high flow hydraulic system  \n",
       "42                                                                                                                                                                    machine configuration - type of treads a crawler machine uses  \n",
       "43                                                                                                                                                                                  machine configuration - width of crawler treads  \n",
       "44                                                                                                                                                                      machine configuration - length of machine digging implement  \n",
       "45                                                                                                                                                                             machine configuration - attachment used for grabbing  \n",
       "46                                                                                                                                           machine configuration - can adjust the operator control configuration to suit the user  \n",
       "47                                                                                                                                                                    machine configuration - type of treads a crawler machine uses  \n",
       "48                                                                                                                                                      machine configuration - optional interface used to add a backhoe attachment  \n",
       "49                                                                                                                                                                                  machine configuration - describes type of blade  \n",
       "50                                                                                                                                                                 machine configuration - describes operator control configuration  \n",
       "51                                                                                                                                                         machine configuration - differential type, typically locking or standard  \n",
       "52                                                                                                                                                                 machine configuration - describes operator control configuration  "
      ]
     },
     "execution_count": 31,
     "metadata": {},
     "output_type": "execute_result"
    }
   ],
   "source": [
    "import pandas as pd\n",
    "features = pd.read_excel(\"data/Data Dictionary.xlsx\")\n",
    "pd.set_option('display.max_colwidth', None)\n",
    "features.drop('Unnamed: 2', axis=1)"
   ]
  },
  {
   "cell_type": "code",
   "execution_count": 32,
   "id": "dafb7e9f",
   "metadata": {},
   "outputs": [],
   "source": [
    "# Import tools\n",
    "import numpy as np\n",
    "import pandas as pd\n",
    "import matplotlib.pyplot as plt\n",
    "import sklearn\n",
    "\n",
    "%matplotlib inline"
   ]
  },
  {
   "cell_type": "code",
   "execution_count": 33,
   "id": "da0c9abd",
   "metadata": {},
   "outputs": [],
   "source": [
    "# Import training and validation set\n",
    "df_temp = pd.read_csv(\"data/TrainAndValid.csv\", low_memory=False, parse_dates=[\"saledate\"])"
   ]
  },
  {
   "cell_type": "code",
   "execution_count": 34,
   "id": "305b4296",
   "metadata": {
    "scrolled": true
   },
   "outputs": [
    {
     "name": "stdout",
     "output_type": "stream",
     "text": [
      "<class 'pandas.core.frame.DataFrame'>\n",
      "RangeIndex: 412698 entries, 0 to 412697\n",
      "Data columns (total 53 columns):\n",
      " #   Column                    Non-Null Count   Dtype         \n",
      "---  ------                    --------------   -----         \n",
      " 0   SalesID                   412698 non-null  int64         \n",
      " 1   SalePrice                 412698 non-null  float64       \n",
      " 2   MachineID                 412698 non-null  int64         \n",
      " 3   ModelID                   412698 non-null  int64         \n",
      " 4   datasource                412698 non-null  int64         \n",
      " 5   auctioneerID              392562 non-null  float64       \n",
      " 6   YearMade                  412698 non-null  int64         \n",
      " 7   MachineHoursCurrentMeter  147504 non-null  float64       \n",
      " 8   UsageBand                 73670 non-null   object        \n",
      " 9   saledate                  412698 non-null  datetime64[ns]\n",
      " 10  fiModelDesc               412698 non-null  object        \n",
      " 11  fiBaseModel               412698 non-null  object        \n",
      " 12  fiSecondaryDesc           271971 non-null  object        \n",
      " 13  fiModelSeries             58667 non-null   object        \n",
      " 14  fiModelDescriptor         74816 non-null   object        \n",
      " 15  ProductSize               196093 non-null  object        \n",
      " 16  fiProductClassDesc        412698 non-null  object        \n",
      " 17  state                     412698 non-null  object        \n",
      " 18  ProductGroup              412698 non-null  object        \n",
      " 19  ProductGroupDesc          412698 non-null  object        \n",
      " 20  Drive_System              107087 non-null  object        \n",
      " 21  Enclosure                 412364 non-null  object        \n",
      " 22  Forks                     197715 non-null  object        \n",
      " 23  Pad_Type                  81096 non-null   object        \n",
      " 24  Ride_Control              152728 non-null  object        \n",
      " 25  Stick                     81096 non-null   object        \n",
      " 26  Transmission              188007 non-null  object        \n",
      " 27  Turbocharged              81096 non-null   object        \n",
      " 28  Blade_Extension           25983 non-null   object        \n",
      " 29  Blade_Width               25983 non-null   object        \n",
      " 30  Enclosure_Type            25983 non-null   object        \n",
      " 31  Engine_Horsepower         25983 non-null   object        \n",
      " 32  Hydraulics                330133 non-null  object        \n",
      " 33  Pushblock                 25983 non-null   object        \n",
      " 34  Ripper                    106945 non-null  object        \n",
      " 35  Scarifier                 25994 non-null   object        \n",
      " 36  Tip_Control               25983 non-null   object        \n",
      " 37  Tire_Size                 97638 non-null   object        \n",
      " 38  Coupler                   220679 non-null  object        \n",
      " 39  Coupler_System            44974 non-null   object        \n",
      " 40  Grouser_Tracks            44875 non-null   object        \n",
      " 41  Hydraulics_Flow           44875 non-null   object        \n",
      " 42  Track_Type                102193 non-null  object        \n",
      " 43  Undercarriage_Pad_Width   102916 non-null  object        \n",
      " 44  Stick_Length              102261 non-null  object        \n",
      " 45  Thumb                     102332 non-null  object        \n",
      " 46  Pattern_Changer           102261 non-null  object        \n",
      " 47  Grouser_Type              102193 non-null  object        \n",
      " 48  Backhoe_Mounting          80712 non-null   object        \n",
      " 49  Blade_Type                81875 non-null   object        \n",
      " 50  Travel_Controls           81877 non-null   object        \n",
      " 51  Differential_Type         71564 non-null   object        \n",
      " 52  Steering_Controls         71522 non-null   object        \n",
      "dtypes: datetime64[ns](1), float64(3), int64(5), object(44)\n",
      "memory usage: 166.9+ MB\n"
     ]
    }
   ],
   "source": [
    "df_temp.info()"
   ]
  },
  {
   "cell_type": "code",
   "execution_count": 35,
   "id": "09015ff8",
   "metadata": {
    "scrolled": true
   },
   "outputs": [
    {
     "data": {
      "text/plain": [
       "SalesID                          0\n",
       "SalePrice                        0\n",
       "MachineID                        0\n",
       "ModelID                          0\n",
       "datasource                       0\n",
       "auctioneerID                 20136\n",
       "YearMade                         0\n",
       "MachineHoursCurrentMeter    265194\n",
       "UsageBand                   339028\n",
       "saledate                         0\n",
       "fiModelDesc                      0\n",
       "fiBaseModel                      0\n",
       "fiSecondaryDesc             140727\n",
       "fiModelSeries               354031\n",
       "fiModelDescriptor           337882\n",
       "ProductSize                 216605\n",
       "fiProductClassDesc               0\n",
       "state                            0\n",
       "ProductGroup                     0\n",
       "ProductGroupDesc                 0\n",
       "Drive_System                305611\n",
       "Enclosure                      334\n",
       "Forks                       214983\n",
       "Pad_Type                    331602\n",
       "Ride_Control                259970\n",
       "Stick                       331602\n",
       "Transmission                224691\n",
       "Turbocharged                331602\n",
       "Blade_Extension             386715\n",
       "Blade_Width                 386715\n",
       "Enclosure_Type              386715\n",
       "Engine_Horsepower           386715\n",
       "Hydraulics                   82565\n",
       "Pushblock                   386715\n",
       "Ripper                      305753\n",
       "Scarifier                   386704\n",
       "Tip_Control                 386715\n",
       "Tire_Size                   315060\n",
       "Coupler                     192019\n",
       "Coupler_System              367724\n",
       "Grouser_Tracks              367823\n",
       "Hydraulics_Flow             367823\n",
       "Track_Type                  310505\n",
       "Undercarriage_Pad_Width     309782\n",
       "Stick_Length                310437\n",
       "Thumb                       310366\n",
       "Pattern_Changer             310437\n",
       "Grouser_Type                310505\n",
       "Backhoe_Mounting            331986\n",
       "Blade_Type                  330823\n",
       "Travel_Controls             330821\n",
       "Differential_Type           341134\n",
       "Steering_Controls           341176\n",
       "dtype: int64"
      ]
     },
     "execution_count": 35,
     "metadata": {},
     "output_type": "execute_result"
    }
   ],
   "source": [
    "df_temp.isna().sum()"
   ]
  },
  {
   "cell_type": "code",
   "execution_count": 36,
   "id": "81eb31cc",
   "metadata": {},
   "outputs": [
    {
     "data": {
      "image/png": "[encoded data removed]",
      "text/plain": [
       "<Figure size 432x288 with 1 Axes>"
      ]
     },
     "metadata": {
      "needs_background": "light"
     },
     "output_type": "display_data"
    }
   ],
   "source": [
    "fig , ax = plt.subplots()\n",
    "ax.scatter(df_temp[\"saledate\"][:1000], df_temp[\"SalePrice\"][:1000]);"
   ]
  },
  {
   "cell_type": "code",
   "execution_count": 37,
   "id": "4ee3092c",
   "metadata": {},
   "outputs": [
    {
     "data": {
      "image/png": "[encoded data removed]",
      "text/plain": [
       "<Figure size 432x288 with 1 Axes>"
      ]
     },
     "metadata": {
      "needs_background": "light"
     },
     "output_type": "display_data"
    }
   ],
   "source": [
    "df_temp.SalePrice.plot.hist();"
   ]
  },
  {
   "cell_type": "markdown",
   "id": "c4ea2bbf",
   "metadata": {},
   "source": [
    "### Parsing dates"
   ]
  },
  {
   "cell_type": "code",
   "execution_count": 38,
   "id": "cb629b2b",
   "metadata": {},
   "outputs": [
    {
     "data": {
      "text/plain": [
       "0     2006-11-16\n",
       "1     2004-03-26\n",
       "2     2004-02-26\n",
       "3     2011-05-19\n",
       "4     2009-07-23\n",
       "         ...    \n",
       "995   2009-07-16\n",
       "996   2007-06-14\n",
       "997   2005-09-22\n",
       "998   2005-07-28\n",
       "999   2011-06-16\n",
       "Name: saledate, Length: 1000, dtype: datetime64[ns]"
      ]
     },
     "execution_count": 38,
     "metadata": {},
     "output_type": "execute_result"
    }
   ],
   "source": [
    "df_temp.saledate[:1000]"
   ]
  },
  {
   "cell_type": "code",
   "execution_count": 39,
   "id": "ff4fcd4b",
   "metadata": {},
   "outputs": [
    {
     "data": {
      "image/png": "[encoded data removed]",
      "text/plain": [
       "<Figure size 432x288 with 1 Axes>"
      ]
     },
     "metadata": {
      "needs_background": "light"
     },
     "output_type": "display_data"
    }
   ],
   "source": [
    "fig , ax = plt.subplots()\n",
    "ax.scatter(df_temp[\"saledate\"][:1000], df_temp[\"SalePrice\"][:1000]);"
   ]
  },
  {
   "cell_type": "markdown",
   "id": "8ff47408",
   "metadata": {},
   "source": [
    "### Sort DataFrame by saledate\n"
   ]
  },
  {
   "cell_type": "code",
   "execution_count": 40,
   "id": "2b0ba8c6",
   "metadata": {},
   "outputs": [],
   "source": [
    "# Sort DataFrame in data order\n",
    "df_temp.sort_values(by=[\"saledate\"], inplace=True, ascending=True)"
   ]
  },
  {
   "cell_type": "markdown",
   "id": "528525f2",
   "metadata": {},
   "source": [
    "### Adding datetime parameters for `saledate` column"
   ]
  },
  {
   "cell_type": "code",
   "execution_count": 41,
   "id": "d6f8bd33",
   "metadata": {},
   "outputs": [],
   "source": [
    "from utils import add_datetime_parameters\n",
    "add_datetime_parameters(df_temp, \"saledate\", drop_column=True)"
   ]
  },
  {
   "cell_type": "code",
   "execution_count": 42,
   "id": "bc3f57ce",
   "metadata": {},
   "outputs": [
    {
     "data": {
      "image/png": "[encoded data removed]",
      "text/plain": [
       "<Figure size 432x288 with 1 Axes>"
      ]
     },
     "metadata": {
      "needs_background": "light"
     },
     "output_type": "display_data"
    }
   ],
   "source": [
    "asdf = df_temp.groupby([\"saleMonth\"])\n",
    "asdf[\"SalesID\"].count().plot.bar(title=\"Distribution of sales across the year\");"
   ]
  },
  {
   "cell_type": "code",
   "execution_count": 43,
   "id": "7595fc0f",
   "metadata": {},
   "outputs": [
    {
     "data": {
      "image/png": "[encoded data removed]",
      "text/plain": [
       "<Figure size 432x288 with 1 Axes>"
      ]
     },
     "metadata": {
      "needs_background": "light"
     },
     "output_type": "display_data"
    }
   ],
   "source": [
    "asdf.SalePrice.mean().plot.bar(title=\"Mean of SalePrice in each of the month\");"
   ]
  },
  {
   "cell_type": "code",
   "execution_count": 44,
   "id": "46594c7d",
   "metadata": {},
   "outputs": [
    {
     "data": {
      "image/png": "[encoded data removed]",
      "text/plain": [
       "<Figure size 432x288 with 1 Axes>"
      ]
     },
     "metadata": {
      "needs_background": "light"
     },
     "output_type": "display_data"
    }
   ],
   "source": [
    "asdf = df_temp.groupby([\"saleYear\"])\n",
    "asdf[\"SalesID\"].count().plot.bar(title=\"Distribution of sales across the years\");"
   ]
  },
  {
   "cell_type": "code",
   "execution_count": 45,
   "id": "a473a960",
   "metadata": {},
   "outputs": [
    {
     "data": {
      "image/png": "[encoded data removed]",
      "text/plain": [
       "<Figure size 432x288 with 1 Axes>"
      ]
     },
     "metadata": {
      "needs_background": "light"
     },
     "output_type": "display_data"
    }
   ],
   "source": [
    "asdf.SalePrice.mean().plot.bar(title=\"Mean of SalePrice in each of years\");"
   ]
  },
  {
   "cell_type": "markdown",
   "id": "f2d05cd3",
   "metadata": {},
   "source": [
    "## 5. Modeling\n",
    "There's more of EDA that could be done but there's a lot of features and searching for patterns in all of them will be time-consuming. Let's move to model driven EDA and back to data driven EDA in case modeling fail."
   ]
  },
  {
   "cell_type": "markdown",
   "id": "9de2c031",
   "metadata": {},
   "source": [
    "### Convert Strings to categories"
   ]
  },
  {
   "cell_type": "code",
   "execution_count": 46,
   "id": "5b26866a",
   "metadata": {},
   "outputs": [],
   "source": [
    "from utils import find_string_columns, convert_strings_into_categories\n",
    "\n",
    "# Turn all of the string values into category values\n",
    "convert_strings_into_categories(df_temp)"
   ]
  },
  {
   "cell_type": "markdown",
   "id": "340b9e3c",
   "metadata": {},
   "source": [
    "### Fill missing values"
   ]
  },
  {
   "cell_type": "markdown",
   "id": "b19d8a5a",
   "metadata": {},
   "source": [
    "#### Filling missing categorical features and turning them into numbers"
   ]
  },
  {
   "cell_type": "code",
   "execution_count": 47,
   "id": "d795e921",
   "metadata": {},
   "outputs": [],
   "source": [
    "# Check for columns which aren't numeric\n",
    "from utils import find_categorical_columns\n",
    "missing_cat_train = find_categorical_columns(df_temp)"
   ]
  },
  {
   "cell_type": "code",
   "execution_count": 48,
   "id": "d6a51c97",
   "metadata": {},
   "outputs": [],
   "source": [
    "# Turn categorical variables into numbers and fill missing\n",
    "for cat in missing_cat_train:\n",
    "    # Add binary column to indicate whether sample had missing value\n",
    "    df_temp[cat+\"_is_missing\"] = df_temp[cat].isnull()\n",
    "    # Turn categories into numbers and add +1\n",
    "    df_temp[cat] = pd.Categorical(df_temp[cat]).codes + 1"
   ]
  },
  {
   "cell_type": "markdown",
   "id": "91b2831c",
   "metadata": {},
   "source": [
    "#### Split into train and validation data"
   ]
  },
  {
   "cell_type": "code",
   "execution_count": 49,
   "id": "75c0e825",
   "metadata": {},
   "outputs": [],
   "source": [
    "df_train_temp = df_temp[df_temp.saleYear != 2012]\n",
    "df_valid_temp = df_temp[df_temp.saleYear == 2012]"
   ]
  },
  {
   "cell_type": "markdown",
   "id": "2a7c124b",
   "metadata": {},
   "source": [
    "#### Save preprocessed data"
   ]
  },
  {
   "cell_type": "code",
   "execution_count": 50,
   "id": "cbf99a61",
   "metadata": {},
   "outputs": [],
   "source": [
    "df_train_temp.to_csv(\"data/train_temp.csv\", index=False)\n",
    "df_valid_temp.to_csv(\"data/valid_temp.csv\", index=False)\n"
   ]
  },
  {
   "cell_type": "markdown",
   "id": "b13ce937",
   "metadata": {},
   "source": [
    "#### Load preprocesed data"
   ]
  },
  {
   "cell_type": "code",
   "execution_count": 51,
   "id": "9d36bf9c",
   "metadata": {},
   "outputs": [],
   "source": [
    "df_train_temp = pd.read_csv(\"data/train_temp.csv\", low_memory=False)\n",
    "df_valid_temp = pd.read_csv(\"data/valid_temp.csv\", low_memory=False)"
   ]
  },
  {
   "cell_type": "markdown",
   "id": "b28e3968",
   "metadata": {},
   "source": [
    "#### Fill numeric values"
   ]
  },
  {
   "cell_type": "code",
   "execution_count": 52,
   "id": "4c336d0c",
   "metadata": {},
   "outputs": [],
   "source": [
    "from utils import find_numeric_columns\n",
    "numeric_cols_train = find_numeric_columns(df_train_temp)\n",
    "numeric_cols_valid = find_numeric_columns(df_valid_temp)"
   ]
  },
  {
   "cell_type": "code",
   "execution_count": 53,
   "id": "68c84352",
   "metadata": {},
   "outputs": [],
   "source": [
    "# fill missing data with median\n",
    "for col in numeric_cols_train:\n",
    "    if df_train_temp[col].isnull().sum():\n",
    "        # Add a binary column which tells us is the data was missing or not\n",
    "        df_train_temp[col+\"_is_missing\"] = df_train_temp[col].isnull()\n",
    "        # Fill missing numeric values with median\n",
    "        df_train_temp[col].fillna(df_train_temp[col].median(), inplace=True)\n",
    "        \n",
    "for col in numeric_cols_valid:\n",
    "    if df_valid_temp[col].isnull().sum():\n",
    "        # Add a binary column which tells us is the data was missing or not\n",
    "        df_valid_temp[col+\"_is_missing\"] = df_valid_temp[col].isnull()\n",
    "        # Fill missing numeric values with median\n",
    "        df_valid_temp[col].fillna(df_valid_temp[col].median(), inplace=True)"
   ]
  },
  {
   "cell_type": "code",
   "execution_count": 54,
   "id": "910a854e",
   "metadata": {
    "scrolled": true
   },
   "outputs": [
    {
     "name": "stdout",
     "output_type": "stream",
     "text": [
      "0\n",
      "0\n",
      "0\n",
      "0\n",
      "0\n",
      "0\n",
      "0\n",
      "0\n",
      "0\n",
      "0\n",
      "0\n",
      "0\n",
      "0\n",
      "0\n",
      "0\n",
      "0\n",
      "0\n",
      "0\n",
      "0\n",
      "0\n",
      "0\n",
      "0\n",
      "0\n",
      "0\n",
      "0\n",
      "0\n",
      "0\n",
      "0\n",
      "0\n",
      "0\n",
      "0\n",
      "0\n",
      "0\n",
      "0\n",
      "0\n",
      "0\n",
      "0\n",
      "0\n",
      "0\n",
      "0\n",
      "0\n",
      "0\n",
      "0\n",
      "0\n",
      "0\n",
      "0\n",
      "0\n",
      "0\n",
      "0\n",
      "0\n",
      "0\n",
      "0\n",
      "0\n",
      "0\n",
      "0\n",
      "0\n",
      "0\n",
      "0\n",
      "0\n",
      "0\n",
      "0\n",
      "0\n",
      "0\n",
      "0\n",
      "0\n",
      "0\n",
      "0\n",
      "0\n",
      "0\n",
      "0\n",
      "0\n",
      "0\n",
      "0\n",
      "0\n",
      "0\n",
      "0\n",
      "0\n",
      "0\n",
      "0\n",
      "0\n",
      "0\n",
      "0\n",
      "0\n",
      "0\n",
      "0\n",
      "0\n",
      "0\n",
      "0\n",
      "0\n",
      "0\n",
      "0\n",
      "0\n",
      "0\n",
      "0\n",
      "0\n",
      "0\n",
      "0\n",
      "0\n",
      "0\n",
      "0\n",
      "0\n"
     ]
    }
   ],
   "source": [
    "# Check again for missing numeric values\n",
    "for col in numeric_cols_train:\n",
    "    print(df_train_temp[col].isnull().sum())"
   ]
  },
  {
   "cell_type": "code",
   "execution_count": 55,
   "id": "5ccb2be9",
   "metadata": {
    "scrolled": true
   },
   "outputs": [
    {
     "name": "stdout",
     "output_type": "stream",
     "text": [
      "0\n",
      "0\n",
      "0\n",
      "0\n",
      "0\n",
      "0\n",
      "0\n",
      "0\n",
      "0\n",
      "0\n",
      "0\n",
      "0\n",
      "0\n",
      "0\n",
      "0\n",
      "0\n",
      "0\n",
      "0\n",
      "0\n",
      "0\n",
      "0\n",
      "0\n",
      "0\n",
      "0\n",
      "0\n",
      "0\n",
      "0\n",
      "0\n",
      "0\n",
      "0\n",
      "0\n",
      "0\n",
      "0\n",
      "0\n",
      "0\n",
      "0\n",
      "0\n",
      "0\n",
      "0\n",
      "0\n",
      "0\n",
      "0\n",
      "0\n",
      "0\n",
      "0\n",
      "0\n",
      "0\n",
      "0\n",
      "0\n",
      "0\n",
      "0\n",
      "0\n",
      "0\n",
      "0\n",
      "0\n",
      "0\n",
      "0\n",
      "0\n",
      "0\n",
      "0\n",
      "0\n",
      "0\n",
      "0\n",
      "0\n",
      "0\n",
      "0\n",
      "0\n",
      "0\n",
      "0\n",
      "0\n",
      "0\n",
      "0\n",
      "0\n",
      "0\n",
      "0\n",
      "0\n",
      "0\n",
      "0\n",
      "0\n",
      "0\n",
      "0\n",
      "0\n",
      "0\n",
      "0\n",
      "0\n",
      "0\n",
      "0\n",
      "0\n",
      "0\n",
      "0\n",
      "0\n",
      "0\n",
      "0\n",
      "0\n",
      "0\n",
      "0\n",
      "0\n",
      "0\n",
      "0\n",
      "0\n",
      "0\n"
     ]
    }
   ],
   "source": [
    "for col in numeric_cols_valid:\n",
    "    print(df_valid_temp[col].isnull().sum())"
   ]
  },
  {
   "cell_type": "code",
   "execution_count": 56,
   "id": "30e13879",
   "metadata": {},
   "outputs": [
    {
     "data": {
      "text/plain": [
       "False    380989\n",
       "True      20136\n",
       "Name: auctioneerID_is_missing, dtype: int64"
      ]
     },
     "execution_count": 56,
     "metadata": {},
     "output_type": "execute_result"
    }
   ],
   "source": [
    "df_train_temp.auctioneerID_is_missing.value_counts()"
   ]
  },
  {
   "cell_type": "markdown",
   "id": "5ebf5772",
   "metadata": {},
   "source": [
    "### All data is numeric and filled. Now time for creating the baseline models."
   ]
  },
  {
   "cell_type": "code",
   "execution_count": 58,
   "id": "4f25827c",
   "metadata": {},
   "outputs": [],
   "source": [
    "# import models\n",
    "from sklearn.ensemble import RandomForestRegressor\n",
    "from sklearn.linear_model import Ridge\n",
    "from sklearn.svm import SVR\n",
    "\n",
    "# create baseline models\n",
    "models_1 = {\n",
    "    \"RandomForestRegressor\" : RandomForestRegressor(n_jobs=-1)\n",
    "}\n"
   ]
  },
  {
   "cell_type": "code",
   "execution_count": 59,
   "id": "89b51957",
   "metadata": {},
   "outputs": [],
   "source": [
    "\n",
    "# split X_train, X_valid, y_train, y_valid\n",
    "X_train = df_train_temp.drop(\"SalePrice\", axis=1)\n",
    "y_train = df_train_temp[\"SalePrice\"]\n",
    "\n",
    "X_valid = df_valid_temp.drop(\"SalePrice\", axis=1)\n",
    "y_valid = df_valid_temp[\"SalePrice\"]"
   ]
  },
  {
   "cell_type": "code",
   "execution_count": 32,
   "id": "49206360",
   "metadata": {
    "scrolled": true
   },
   "outputs": [
    {
     "ename": "ValueError",
     "evalue": "X has 101 features, but DecisionTreeRegressor is expecting 102 features as input.",
     "output_type": "error",
     "traceback": [
      "\u001b[1;31m---------------------------------------------------------------------------\u001b[0m",
      "\u001b[1;31mValueError\u001b[0m                                Traceback (most recent call last)",
      "\u001b[1;32m<ipython-input-32-9b9f244a7bfc>\u001b[0m in \u001b[0;36m<module>\u001b[1;34m\u001b[0m\n\u001b[0;32m      1\u001b[0m \u001b[1;32mfrom\u001b[0m \u001b[0mutils\u001b[0m \u001b[1;32mimport\u001b[0m \u001b[0mfit_and_score\u001b[0m\u001b[1;33m\u001b[0m\u001b[1;33m\u001b[0m\u001b[0m\n\u001b[1;32m----> 2\u001b[1;33m \u001b[0mfit_and_score\u001b[0m\u001b[1;33m(\u001b[0m\u001b[0mmodels_1\u001b[0m\u001b[1;33m,\u001b[0m \u001b[0mX_train\u001b[0m\u001b[1;33m[\u001b[0m\u001b[1;33m:\u001b[0m\u001b[1;36m1000\u001b[0m\u001b[1;33m]\u001b[0m\u001b[1;33m,\u001b[0m \u001b[0mX_valid\u001b[0m\u001b[1;33m[\u001b[0m\u001b[1;33m:\u001b[0m\u001b[1;36m1000\u001b[0m\u001b[1;33m]\u001b[0m\u001b[1;33m,\u001b[0m \u001b[0my_train\u001b[0m\u001b[1;33m[\u001b[0m\u001b[1;33m:\u001b[0m\u001b[1;36m1000\u001b[0m\u001b[1;33m]\u001b[0m\u001b[1;33m,\u001b[0m \u001b[0my_valid\u001b[0m\u001b[1;33m[\u001b[0m\u001b[1;33m:\u001b[0m\u001b[1;36m1000\u001b[0m\u001b[1;33m]\u001b[0m\u001b[1;33m,\u001b[0m \u001b[0mtype_of_problem\u001b[0m\u001b[1;33m=\u001b[0m\u001b[1;34m\"regression\"\u001b[0m\u001b[1;33m)\u001b[0m\u001b[1;33m\u001b[0m\u001b[1;33m\u001b[0m\u001b[0m\n\u001b[0m",
      "\u001b[1;32mc:\\MLandDS\\bulldozer_pricing_project\\utils.py\u001b[0m in \u001b[0;36mfit_and_score\u001b[1;34m(models, x_train, x_test, y_train, y_test, type_of_problem, plot)\u001b[0m\n\u001b[0;32m     81\u001b[0m         \u001b[0mmodel\u001b[0m\u001b[1;33m.\u001b[0m\u001b[0mfit\u001b[0m\u001b[1;33m(\u001b[0m\u001b[0mx_train\u001b[0m\u001b[1;33m,\u001b[0m \u001b[0my_train\u001b[0m\u001b[1;33m)\u001b[0m\u001b[1;33m\u001b[0m\u001b[1;33m\u001b[0m\u001b[0m\n\u001b[0;32m     82\u001b[0m         \u001b[1;31m# Evaluate the model and append it's score to the scores dict\u001b[0m\u001b[1;33m\u001b[0m\u001b[1;33m\u001b[0m\u001b[1;33m\u001b[0m\u001b[0m\n\u001b[1;32m---> 83\u001b[1;33m         \u001b[0my_preds\u001b[0m \u001b[1;33m=\u001b[0m \u001b[0mmodel\u001b[0m\u001b[1;33m.\u001b[0m\u001b[0mpredict\u001b[0m\u001b[1;33m(\u001b[0m\u001b[0mx_test\u001b[0m\u001b[1;33m)\u001b[0m\u001b[1;33m\u001b[0m\u001b[1;33m\u001b[0m\u001b[0m\n\u001b[0m\u001b[0;32m     84\u001b[0m         \u001b[0mprint\u001b[0m\u001b[1;33m(\u001b[0m\u001b[1;34mf\"========== {name} ==========\"\u001b[0m\u001b[1;33m)\u001b[0m\u001b[1;33m\u001b[0m\u001b[1;33m\u001b[0m\u001b[0m\n\u001b[0;32m     85\u001b[0m         \u001b[1;32mif\u001b[0m \u001b[0mtype_of_problem\u001b[0m \u001b[1;33m==\u001b[0m \u001b[1;34m\"classification\"\u001b[0m\u001b[1;33m:\u001b[0m\u001b[1;33m\u001b[0m\u001b[1;33m\u001b[0m\u001b[0m\n",
      "\u001b[1;32mc:\\MLandDS\\bulldozer_pricing_project\\env\\lib\\site-packages\\sklearn\\ensemble\\_forest.py\u001b[0m in \u001b[0;36mpredict\u001b[1;34m(self, X)\u001b[0m\n\u001b[0;32m    782\u001b[0m         \u001b[0mcheck_is_fitted\u001b[0m\u001b[1;33m(\u001b[0m\u001b[0mself\u001b[0m\u001b[1;33m)\u001b[0m\u001b[1;33m\u001b[0m\u001b[1;33m\u001b[0m\u001b[0m\n\u001b[0;32m    783\u001b[0m         \u001b[1;31m# Check data\u001b[0m\u001b[1;33m\u001b[0m\u001b[1;33m\u001b[0m\u001b[1;33m\u001b[0m\u001b[0m\n\u001b[1;32m--> 784\u001b[1;33m         \u001b[0mX\u001b[0m \u001b[1;33m=\u001b[0m \u001b[0mself\u001b[0m\u001b[1;33m.\u001b[0m\u001b[0m_validate_X_predict\u001b[0m\u001b[1;33m(\u001b[0m\u001b[0mX\u001b[0m\u001b[1;33m)\u001b[0m\u001b[1;33m\u001b[0m\u001b[1;33m\u001b[0m\u001b[0m\n\u001b[0m\u001b[0;32m    785\u001b[0m \u001b[1;33m\u001b[0m\u001b[0m\n\u001b[0;32m    786\u001b[0m         \u001b[1;31m# Assign chunk of trees to jobs\u001b[0m\u001b[1;33m\u001b[0m\u001b[1;33m\u001b[0m\u001b[1;33m\u001b[0m\u001b[0m\n",
      "\u001b[1;32mc:\\MLandDS\\bulldozer_pricing_project\\env\\lib\\site-packages\\sklearn\\ensemble\\_forest.py\u001b[0m in \u001b[0;36m_validate_X_predict\u001b[1;34m(self, X)\u001b[0m\n\u001b[0;32m    420\u001b[0m         \u001b[0mcheck_is_fitted\u001b[0m\u001b[1;33m(\u001b[0m\u001b[0mself\u001b[0m\u001b[1;33m)\u001b[0m\u001b[1;33m\u001b[0m\u001b[1;33m\u001b[0m\u001b[0m\n\u001b[0;32m    421\u001b[0m \u001b[1;33m\u001b[0m\u001b[0m\n\u001b[1;32m--> 422\u001b[1;33m         \u001b[1;32mreturn\u001b[0m \u001b[0mself\u001b[0m\u001b[1;33m.\u001b[0m\u001b[0mestimators_\u001b[0m\u001b[1;33m[\u001b[0m\u001b[1;36m0\u001b[0m\u001b[1;33m]\u001b[0m\u001b[1;33m.\u001b[0m\u001b[0m_validate_X_predict\u001b[0m\u001b[1;33m(\u001b[0m\u001b[0mX\u001b[0m\u001b[1;33m,\u001b[0m \u001b[0mcheck_input\u001b[0m\u001b[1;33m=\u001b[0m\u001b[1;32mTrue\u001b[0m\u001b[1;33m)\u001b[0m\u001b[1;33m\u001b[0m\u001b[1;33m\u001b[0m\u001b[0m\n\u001b[0m\u001b[0;32m    423\u001b[0m \u001b[1;33m\u001b[0m\u001b[0m\n\u001b[0;32m    424\u001b[0m     \u001b[1;33m@\u001b[0m\u001b[0mproperty\u001b[0m\u001b[1;33m\u001b[0m\u001b[1;33m\u001b[0m\u001b[0m\n",
      "\u001b[1;32mc:\\MLandDS\\bulldozer_pricing_project\\env\\lib\\site-packages\\sklearn\\tree\\_classes.py\u001b[0m in \u001b[0;36m_validate_X_predict\u001b[1;34m(self, X, check_input)\u001b[0m\n\u001b[0;32m    405\u001b[0m         \u001b[1;34m\"\"\"Validate the training data on predict (probabilities).\"\"\"\u001b[0m\u001b[1;33m\u001b[0m\u001b[1;33m\u001b[0m\u001b[0m\n\u001b[0;32m    406\u001b[0m         \u001b[1;32mif\u001b[0m \u001b[0mcheck_input\u001b[0m\u001b[1;33m:\u001b[0m\u001b[1;33m\u001b[0m\u001b[1;33m\u001b[0m\u001b[0m\n\u001b[1;32m--> 407\u001b[1;33m             X = self._validate_data(X, dtype=DTYPE, accept_sparse=\"csr\",\n\u001b[0m\u001b[0;32m    408\u001b[0m                                     reset=False)\n\u001b[0;32m    409\u001b[0m             if issparse(X) and (X.indices.dtype != np.intc or\n",
      "\u001b[1;32mc:\\MLandDS\\bulldozer_pricing_project\\env\\lib\\site-packages\\sklearn\\base.py\u001b[0m in \u001b[0;36m_validate_data\u001b[1;34m(self, X, y, reset, validate_separately, **check_params)\u001b[0m\n\u001b[0;32m    435\u001b[0m \u001b[1;33m\u001b[0m\u001b[0m\n\u001b[0;32m    436\u001b[0m         \u001b[1;32mif\u001b[0m \u001b[0mcheck_params\u001b[0m\u001b[1;33m.\u001b[0m\u001b[0mget\u001b[0m\u001b[1;33m(\u001b[0m\u001b[1;34m'ensure_2d'\u001b[0m\u001b[1;33m,\u001b[0m \u001b[1;32mTrue\u001b[0m\u001b[1;33m)\u001b[0m\u001b[1;33m:\u001b[0m\u001b[1;33m\u001b[0m\u001b[1;33m\u001b[0m\u001b[0m\n\u001b[1;32m--> 437\u001b[1;33m             \u001b[0mself\u001b[0m\u001b[1;33m.\u001b[0m\u001b[0m_check_n_features\u001b[0m\u001b[1;33m(\u001b[0m\u001b[0mX\u001b[0m\u001b[1;33m,\u001b[0m \u001b[0mreset\u001b[0m\u001b[1;33m=\u001b[0m\u001b[0mreset\u001b[0m\u001b[1;33m)\u001b[0m\u001b[1;33m\u001b[0m\u001b[1;33m\u001b[0m\u001b[0m\n\u001b[0m\u001b[0;32m    438\u001b[0m \u001b[1;33m\u001b[0m\u001b[0m\n\u001b[0;32m    439\u001b[0m         \u001b[1;32mreturn\u001b[0m \u001b[0mout\u001b[0m\u001b[1;33m\u001b[0m\u001b[1;33m\u001b[0m\u001b[0m\n",
      "\u001b[1;32mc:\\MLandDS\\bulldozer_pricing_project\\env\\lib\\site-packages\\sklearn\\base.py\u001b[0m in \u001b[0;36m_check_n_features\u001b[1;34m(self, X, reset)\u001b[0m\n\u001b[0;32m    363\u001b[0m \u001b[1;33m\u001b[0m\u001b[0m\n\u001b[0;32m    364\u001b[0m         \u001b[1;32mif\u001b[0m \u001b[0mn_features\u001b[0m \u001b[1;33m!=\u001b[0m \u001b[0mself\u001b[0m\u001b[1;33m.\u001b[0m\u001b[0mn_features_in_\u001b[0m\u001b[1;33m:\u001b[0m\u001b[1;33m\u001b[0m\u001b[1;33m\u001b[0m\u001b[0m\n\u001b[1;32m--> 365\u001b[1;33m             raise ValueError(\n\u001b[0m\u001b[0;32m    366\u001b[0m                 \u001b[1;34mf\"X has {n_features} features, but {self.__class__.__name__} \"\u001b[0m\u001b[1;33m\u001b[0m\u001b[1;33m\u001b[0m\u001b[0m\n\u001b[0;32m    367\u001b[0m                 f\"is expecting {self.n_features_in_} features as input.\")\n",
      "\u001b[1;31mValueError\u001b[0m: X has 101 features, but DecisionTreeRegressor is expecting 102 features as input."
     ]
    }
   ],
   "source": [
    "from utils import fit_and_score\n",
    "fit_and_score(models_1, X_train[:1000], X_valid[:1000], y_train[:1000], y_valid[:1000], type_of_problem=\"regression\")"
   ]
  },
  {
   "cell_type": "code",
   "execution_count": 60,
   "id": "8bdab259",
   "metadata": {},
   "outputs": [
    {
     "name": "stdout",
     "output_type": "stream",
     "text": [
      "auctioneerID_is_missing\n"
     ]
    }
   ],
   "source": [
    "# Look that X_valid is one column short, let's look into that\n",
    "train_cols = set(X_train.columns)\n",
    "val_cols = set(X_valid.columns)\n",
    "difference = train_cols.difference(val_cols)\n",
    "for i in difference:\n",
    "    print(i)\n"
   ]
  },
  {
   "cell_type": "code",
   "execution_count": 61,
   "id": "f8fcd10d",
   "metadata": {},
   "outputs": [],
   "source": [
    "# Looks like in X_valid there wasn't any auctioneerID missing. \n",
    "# Let's just add it with all values equal 0 (0 because None was missing)\n",
    "X_valid[\"auctioneerID_is_missing\"] = 0"
   ]
  },
  {
   "cell_type": "code",
   "execution_count": 116,
   "id": "c570b3cc",
   "metadata": {},
   "outputs": [
    {
     "name": "stdout",
     "output_type": "stream",
     "text": [
      "========== RandomForestRegressor ==========\n",
      "Coefficient of determination: 0.8724786603151615\n",
      "MSE: 87590890.42165138\n",
      "MAE: 6134.201141449927\n",
      "MSLE: 0.06464375078768184\n",
      "RMSLE: 0.2542513535611597\n",
      "Explained Variance score: 0.872893807728924\n"
     ]
    }
   ],
   "source": [
    "# Now It should work\n",
    "fit_and_score(models_1, X_train, X_valid, y_train, y_valid, type_of_problem=\"regression\");"
   ]
  },
  {
   "cell_type": "code",
   "execution_count": 117,
   "id": "40d3daa6",
   "metadata": {},
   "outputs": [
    {
     "name": "stdout",
     "output_type": "stream",
     "text": [
      "========== RandomForestRegressor ==========\n",
      "Coefficient of determination: 0.8319530902630268\n",
      "MSE: 115426786.55075644\n",
      "MAE: 7198.581443013911\n",
      "MSLE: 0.08704872833638477\n",
      "RMSLE: 0.29504021477823117\n",
      "Explained Variance score: 0.833023699865178\n"
     ]
    }
   ],
   "source": [
    "# It took quite some time, let't do this with smaller number of samples\n",
    "from utils import fit_and_score\n",
    "models_2 = {\n",
    "    \"RandomForestRegressor\" : RandomForestRegressor(n_jobs=-1,\n",
    "                                                    random_state=42,\n",
    "                                                    max_samples=10000)\n",
    "}\n",
    "fit_and_score(models_2, X_train, X_valid, y_train, y_valid, type_of_problem=\"regression\");"
   ]
  },
  {
   "cell_type": "markdown",
   "id": "546433d3",
   "metadata": {},
   "source": [
    "### Hyperparameters tuning with RandomSearchCV"
   ]
  },
  {
   "cell_type": "code",
   "execution_count": 138,
   "id": "45658b16",
   "metadata": {},
   "outputs": [
    {
     "name": "stdout",
     "output_type": "stream",
     "text": [
      "Fitting 5 folds for each of 10 candidates, totalling 50 fits\n"
     ]
    },
    {
     "data": {
      "text/plain": [
       "RandomizedSearchCV(estimator=RandomForestRegressor(max_samples=10000, n_jobs=-1,\n",
       "                                                   random_state=42),\n",
       "                   param_distributions={'max_depth': (None, 3, 5, 10),\n",
       "                                        'max_features': (0.5, 1, 'sqrt',\n",
       "                                                         'auto'),\n",
       "                                        'max_samples': (10000,),\n",
       "                                        'min_samples_leaf': array([ 1,  3,  5,  7,  9, 11, 13, 15, 17, 19]),\n",
       "                                        'min_samples_split': array([ 2,  4,  6,  8, 10, 12, 14, 16, 18]),\n",
       "                                        'n_estimators': array([10, 20, 30, 40, 50, 60, 70, 80, 90])},\n",
       "                   verbose=True)"
      ]
     },
     "execution_count": 138,
     "metadata": {},
     "output_type": "execute_result"
    }
   ],
   "source": [
    "from sklearn.model_selection import RandomizedSearchCV\n",
    "\n",
    "# Different RandomForestRegressor hyperparameters\n",
    "rf_grid = {\"n_estimators\": np.arange(10, 100, 10),\n",
    "           \"max_depth\": (None, 3, 5, 10),\n",
    "           \"min_samples_split\": np.arange(2,20,2),\n",
    "           \"min_samples_leaf\": np.arange(1,20,2),\n",
    "           \"max_features\": (0.5, 1, \"sqrt\", \"auto\"),\n",
    "           \"max_samples\": (10000,)\n",
    "          }\n",
    "# Instantiate RandomSearchCV model\n",
    "\n",
    "rs_model = RandomizedSearchCV(RandomForestRegressor(n_jobs=-1,\n",
    "                                                    random_state=42,\n",
    "                                                    max_samples=10000), \n",
    "                              param_distributions=rf_grid,\n",
    "                              n_iter=10,\n",
    "                              verbose=True\n",
    "                             )\n",
    "# fit the RandomSearchCV model\n",
    "rs_model.fit(X_train, y_train)"
   ]
  },
  {
   "cell_type": "markdown",
   "id": "a97a7b5c",
   "metadata": {},
   "source": [
    "### Train an model with the best hyperparameters"
   ]
  },
  {
   "cell_type": "code",
   "execution_count": 188,
   "id": "792d5cd1",
   "metadata": {},
   "outputs": [
    {
     "name": "stdout",
     "output_type": "stream",
     "text": [
      "========== Tuned RandomForestRegressor ==========\n",
      "Coefficient of determination: 0.8812022185638037\n",
      "MSE: 81598918.90902339\n",
      "MAE: 5930.858223147952\n",
      "MSLE: 0.059278163923980685\n",
      "RMSLE: 0.24347107410117672\n",
      "Explained Variance score: 0.8824912798624496\n"
     ]
    }
   ],
   "source": [
    "# Best found hyperparameters, those params was found after 70 iterations\n",
    "best_model = {\"Tuned RandomForestRegressor\": RandomForestRegressor(\n",
    "                                   n_estimators=90,\n",
    "                                   min_samples_split=18,\n",
    "                                   min_samples_leaf=3,\n",
    "                                   max_features=0.5,\n",
    "                                   n_jobs=-1,\n",
    "                                   max_samples=None\n",
    "                                  )\n",
    "}\n",
    "fit_and_score(best_model, X_train, X_valid, y_train, y_valid, type_of_problem=\"regression\");"
   ]
  },
  {
   "cell_type": "markdown",
   "id": "15a2f2f7",
   "metadata": {},
   "source": [
    "## Make predictions on the test data"
   ]
  },
  {
   "cell_type": "code",
   "execution_count": 64,
   "id": "dee0b8a8",
   "metadata": {},
   "outputs": [
    {
     "data": {
      "text/html": [
       "<div>\n",
       "<style scoped>\n",
       "    .dataframe tbody tr th:only-of-type {\n",
       "        vertical-align: middle;\n",
       "    }\n",
       "\n",
       "    .dataframe tbody tr th {\n",
       "        vertical-align: top;\n",
       "    }\n",
       "\n",
       "    .dataframe thead th {\n",
       "        text-align: right;\n",
       "    }\n",
       "</style>\n",
       "<table border=\"1\" class=\"dataframe\">\n",
       "  <thead>\n",
       "    <tr style=\"text-align: right;\">\n",
       "      <th></th>\n",
       "      <th>SalesID</th>\n",
       "      <th>MachineID</th>\n",
       "      <th>ModelID</th>\n",
       "      <th>datasource</th>\n",
       "      <th>auctioneerID</th>\n",
       "      <th>YearMade</th>\n",
       "      <th>MachineHoursCurrentMeter</th>\n",
       "      <th>UsageBand</th>\n",
       "      <th>saledate</th>\n",
       "      <th>fiModelDesc</th>\n",
       "      <th>...</th>\n",
       "      <th>Undercarriage_Pad_Width</th>\n",
       "      <th>Stick_Length</th>\n",
       "      <th>Thumb</th>\n",
       "      <th>Pattern_Changer</th>\n",
       "      <th>Grouser_Type</th>\n",
       "      <th>Backhoe_Mounting</th>\n",
       "      <th>Blade_Type</th>\n",
       "      <th>Travel_Controls</th>\n",
       "      <th>Differential_Type</th>\n",
       "      <th>Steering_Controls</th>\n",
       "    </tr>\n",
       "  </thead>\n",
       "  <tbody>\n",
       "    <tr>\n",
       "      <th>0</th>\n",
       "      <td>1227829</td>\n",
       "      <td>1006309</td>\n",
       "      <td>3168</td>\n",
       "      <td>121</td>\n",
       "      <td>3</td>\n",
       "      <td>1999</td>\n",
       "      <td>3688.0</td>\n",
       "      <td>Low</td>\n",
       "      <td>2012-05-03</td>\n",
       "      <td>580G</td>\n",
       "      <td>...</td>\n",
       "      <td>NaN</td>\n",
       "      <td>NaN</td>\n",
       "      <td>NaN</td>\n",
       "      <td>NaN</td>\n",
       "      <td>NaN</td>\n",
       "      <td>NaN</td>\n",
       "      <td>NaN</td>\n",
       "      <td>NaN</td>\n",
       "      <td>NaN</td>\n",
       "      <td>NaN</td>\n",
       "    </tr>\n",
       "    <tr>\n",
       "      <th>1</th>\n",
       "      <td>1227844</td>\n",
       "      <td>1022817</td>\n",
       "      <td>7271</td>\n",
       "      <td>121</td>\n",
       "      <td>3</td>\n",
       "      <td>1000</td>\n",
       "      <td>28555.0</td>\n",
       "      <td>High</td>\n",
       "      <td>2012-05-10</td>\n",
       "      <td>936</td>\n",
       "      <td>...</td>\n",
       "      <td>NaN</td>\n",
       "      <td>NaN</td>\n",
       "      <td>NaN</td>\n",
       "      <td>NaN</td>\n",
       "      <td>NaN</td>\n",
       "      <td>NaN</td>\n",
       "      <td>NaN</td>\n",
       "      <td>NaN</td>\n",
       "      <td>Standard</td>\n",
       "      <td>Conventional</td>\n",
       "    </tr>\n",
       "    <tr>\n",
       "      <th>2</th>\n",
       "      <td>1227847</td>\n",
       "      <td>1031560</td>\n",
       "      <td>22805</td>\n",
       "      <td>121</td>\n",
       "      <td>3</td>\n",
       "      <td>2004</td>\n",
       "      <td>6038.0</td>\n",
       "      <td>Medium</td>\n",
       "      <td>2012-05-10</td>\n",
       "      <td>EC210BLC</td>\n",
       "      <td>...</td>\n",
       "      <td>None or Unspecified</td>\n",
       "      <td>9' 6\"</td>\n",
       "      <td>Manual</td>\n",
       "      <td>None or Unspecified</td>\n",
       "      <td>Double</td>\n",
       "      <td>NaN</td>\n",
       "      <td>NaN</td>\n",
       "      <td>NaN</td>\n",
       "      <td>NaN</td>\n",
       "      <td>NaN</td>\n",
       "    </tr>\n",
       "    <tr>\n",
       "      <th>3</th>\n",
       "      <td>1227848</td>\n",
       "      <td>56204</td>\n",
       "      <td>1269</td>\n",
       "      <td>121</td>\n",
       "      <td>3</td>\n",
       "      <td>2006</td>\n",
       "      <td>8940.0</td>\n",
       "      <td>High</td>\n",
       "      <td>2012-05-10</td>\n",
       "      <td>330CL</td>\n",
       "      <td>...</td>\n",
       "      <td>None or Unspecified</td>\n",
       "      <td>None or Unspecified</td>\n",
       "      <td>Manual</td>\n",
       "      <td>Yes</td>\n",
       "      <td>Triple</td>\n",
       "      <td>NaN</td>\n",
       "      <td>NaN</td>\n",
       "      <td>NaN</td>\n",
       "      <td>NaN</td>\n",
       "      <td>NaN</td>\n",
       "    </tr>\n",
       "    <tr>\n",
       "      <th>4</th>\n",
       "      <td>1227863</td>\n",
       "      <td>1053887</td>\n",
       "      <td>22312</td>\n",
       "      <td>121</td>\n",
       "      <td>3</td>\n",
       "      <td>2005</td>\n",
       "      <td>2286.0</td>\n",
       "      <td>Low</td>\n",
       "      <td>2012-05-10</td>\n",
       "      <td>650K</td>\n",
       "      <td>...</td>\n",
       "      <td>NaN</td>\n",
       "      <td>NaN</td>\n",
       "      <td>NaN</td>\n",
       "      <td>NaN</td>\n",
       "      <td>NaN</td>\n",
       "      <td>None or Unspecified</td>\n",
       "      <td>PAT</td>\n",
       "      <td>None or Unspecified</td>\n",
       "      <td>NaN</td>\n",
       "      <td>NaN</td>\n",
       "    </tr>\n",
       "  </tbody>\n",
       "</table>\n",
       "<p>5 rows × 52 columns</p>\n",
       "</div>"
      ],
      "text/plain": [
       "   SalesID  MachineID  ModelID  datasource  auctioneerID  YearMade  \\\n",
       "0  1227829    1006309     3168         121             3      1999   \n",
       "1  1227844    1022817     7271         121             3      1000   \n",
       "2  1227847    1031560    22805         121             3      2004   \n",
       "3  1227848      56204     1269         121             3      2006   \n",
       "4  1227863    1053887    22312         121             3      2005   \n",
       "\n",
       "   MachineHoursCurrentMeter UsageBand   saledate fiModelDesc  ...  \\\n",
       "0                    3688.0       Low 2012-05-03        580G  ...   \n",
       "1                   28555.0      High 2012-05-10         936  ...   \n",
       "2                    6038.0    Medium 2012-05-10    EC210BLC  ...   \n",
       "3                    8940.0      High 2012-05-10       330CL  ...   \n",
       "4                    2286.0       Low 2012-05-10        650K  ...   \n",
       "\n",
       "  Undercarriage_Pad_Width         Stick_Length   Thumb      Pattern_Changer  \\\n",
       "0                     NaN                  NaN     NaN                  NaN   \n",
       "1                     NaN                  NaN     NaN                  NaN   \n",
       "2     None or Unspecified                9' 6\"  Manual  None or Unspecified   \n",
       "3     None or Unspecified  None or Unspecified  Manual                  Yes   \n",
       "4                     NaN                  NaN     NaN                  NaN   \n",
       "\n",
       "  Grouser_Type     Backhoe_Mounting Blade_Type      Travel_Controls  \\\n",
       "0          NaN                  NaN        NaN                  NaN   \n",
       "1          NaN                  NaN        NaN                  NaN   \n",
       "2       Double                  NaN        NaN                  NaN   \n",
       "3       Triple                  NaN        NaN                  NaN   \n",
       "4          NaN  None or Unspecified        PAT  None or Unspecified   \n",
       "\n",
       "  Differential_Type Steering_Controls  \n",
       "0               NaN               NaN  \n",
       "1          Standard      Conventional  \n",
       "2               NaN               NaN  \n",
       "3               NaN               NaN  \n",
       "4               NaN               NaN  \n",
       "\n",
       "[5 rows x 52 columns]"
      ]
     },
     "execution_count": 64,
     "metadata": {},
     "output_type": "execute_result"
    }
   ],
   "source": [
    "# import the data\n",
    "df_test = pd.read_csv(\"data/Test.csv\", low_memory=False,\n",
    "                      parse_dates=[\"saledate\"])\n",
    "\n",
    "df_test.head()"
   ]
  },
  {
   "cell_type": "code",
   "execution_count": 65,
   "id": "7166d753",
   "metadata": {},
   "outputs": [],
   "source": [
    "# add date and time parameters for test set\n",
    "add_datetime_parameters(df_test, \"saledate\", drop_column=True)"
   ]
  },
  {
   "cell_type": "code",
   "execution_count": 66,
   "id": "8d18d812",
   "metadata": {},
   "outputs": [],
   "source": [
    "# Turn all of the string values into category values\n",
    "convert_strings_into_categories(df_test)"
   ]
  },
  {
   "cell_type": "code",
   "execution_count": 67,
   "id": "8fca9b55",
   "metadata": {},
   "outputs": [],
   "source": [
    "# Check for columns which aren't numeric\n",
    "from utils import find_categorical_columns\n",
    "missing_cat_train = find_categorical_columns(df_test)"
   ]
  },
  {
   "cell_type": "code",
   "execution_count": 68,
   "id": "4f44754b",
   "metadata": {},
   "outputs": [],
   "source": [
    "# Turn categorical variables into numbers and fill missing\n",
    "for cat in missing_cat_train:\n",
    "    # Add binary column to indicate whether sample had missing value\n",
    "    df_test[cat+\"_is_missing\"] = df_test[cat].isnull()\n",
    "    # Turn categories into numbers and add +1\n",
    "    df_test[cat] = pd.Categorical(df_test[cat]).codes + 1"
   ]
  },
  {
   "cell_type": "code",
   "execution_count": 69,
   "id": "2e9a6e52",
   "metadata": {},
   "outputs": [],
   "source": [
    "# find numeric columns\n",
    "numeric_cols_test = find_numeric_columns(df_test)"
   ]
  },
  {
   "cell_type": "code",
   "execution_count": 70,
   "id": "75325d77",
   "metadata": {},
   "outputs": [],
   "source": [
    "# fill missing data with median\n",
    "for col in numeric_cols_test:\n",
    "    if df_test[col].isnull().sum():\n",
    "        # Add a binary column which tells us is the data was missing or not\n",
    "        df_test[col+\"_is_missing\"] = df_test[col].isnull()\n",
    "        # Fill missing numeric values with median\n",
    "        df_test[col].fillna(df_test[col].median(), inplace=True)"
   ]
  },
  {
   "cell_type": "code",
   "execution_count": 168,
   "id": "28a7c663",
   "metadata": {
    "scrolled": true
   },
   "outputs": [
    {
     "ename": "ValueError",
     "evalue": "X has 101 features, but DecisionTreeRegressor is expecting 102 features as input.",
     "output_type": "error",
     "traceback": [
      "\u001b[1;31m---------------------------------------------------------------------------\u001b[0m",
      "\u001b[1;31mValueError\u001b[0m                                Traceback (most recent call last)",
      "\u001b[1;32m<ipython-input-168-7841481571b2>\u001b[0m in \u001b[0;36m<module>\u001b[1;34m\u001b[0m\n\u001b[0;32m      1\u001b[0m \u001b[1;31m# make predictions\u001b[0m\u001b[1;33m\u001b[0m\u001b[1;33m\u001b[0m\u001b[1;33m\u001b[0m\u001b[0m\n\u001b[1;32m----> 2\u001b[1;33m \u001b[0my_preds\u001b[0m \u001b[1;33m=\u001b[0m \u001b[0mbest_model\u001b[0m\u001b[1;33m[\u001b[0m\u001b[1;34m\"Tuned RandomForestRegressor\"\u001b[0m\u001b[1;33m]\u001b[0m\u001b[1;33m.\u001b[0m\u001b[0mpredict\u001b[0m\u001b[1;33m(\u001b[0m\u001b[0mdf_test\u001b[0m\u001b[1;33m)\u001b[0m\u001b[1;33m\u001b[0m\u001b[1;33m\u001b[0m\u001b[0m\n\u001b[0m",
      "\u001b[1;32mc:\\MLandDS\\bulldozer_pricing_project\\env\\lib\\site-packages\\sklearn\\ensemble\\_forest.py\u001b[0m in \u001b[0;36mpredict\u001b[1;34m(self, X)\u001b[0m\n\u001b[0;32m    782\u001b[0m         \u001b[0mcheck_is_fitted\u001b[0m\u001b[1;33m(\u001b[0m\u001b[0mself\u001b[0m\u001b[1;33m)\u001b[0m\u001b[1;33m\u001b[0m\u001b[1;33m\u001b[0m\u001b[0m\n\u001b[0;32m    783\u001b[0m         \u001b[1;31m# Check data\u001b[0m\u001b[1;33m\u001b[0m\u001b[1;33m\u001b[0m\u001b[1;33m\u001b[0m\u001b[0m\n\u001b[1;32m--> 784\u001b[1;33m         \u001b[0mX\u001b[0m \u001b[1;33m=\u001b[0m \u001b[0mself\u001b[0m\u001b[1;33m.\u001b[0m\u001b[0m_validate_X_predict\u001b[0m\u001b[1;33m(\u001b[0m\u001b[0mX\u001b[0m\u001b[1;33m)\u001b[0m\u001b[1;33m\u001b[0m\u001b[1;33m\u001b[0m\u001b[0m\n\u001b[0m\u001b[0;32m    785\u001b[0m \u001b[1;33m\u001b[0m\u001b[0m\n\u001b[0;32m    786\u001b[0m         \u001b[1;31m# Assign chunk of trees to jobs\u001b[0m\u001b[1;33m\u001b[0m\u001b[1;33m\u001b[0m\u001b[1;33m\u001b[0m\u001b[0m\n",
      "\u001b[1;32mc:\\MLandDS\\bulldozer_pricing_project\\env\\lib\\site-packages\\sklearn\\ensemble\\_forest.py\u001b[0m in \u001b[0;36m_validate_X_predict\u001b[1;34m(self, X)\u001b[0m\n\u001b[0;32m    420\u001b[0m         \u001b[0mcheck_is_fitted\u001b[0m\u001b[1;33m(\u001b[0m\u001b[0mself\u001b[0m\u001b[1;33m)\u001b[0m\u001b[1;33m\u001b[0m\u001b[1;33m\u001b[0m\u001b[0m\n\u001b[0;32m    421\u001b[0m \u001b[1;33m\u001b[0m\u001b[0m\n\u001b[1;32m--> 422\u001b[1;33m         \u001b[1;32mreturn\u001b[0m \u001b[0mself\u001b[0m\u001b[1;33m.\u001b[0m\u001b[0mestimators_\u001b[0m\u001b[1;33m[\u001b[0m\u001b[1;36m0\u001b[0m\u001b[1;33m]\u001b[0m\u001b[1;33m.\u001b[0m\u001b[0m_validate_X_predict\u001b[0m\u001b[1;33m(\u001b[0m\u001b[0mX\u001b[0m\u001b[1;33m,\u001b[0m \u001b[0mcheck_input\u001b[0m\u001b[1;33m=\u001b[0m\u001b[1;32mTrue\u001b[0m\u001b[1;33m)\u001b[0m\u001b[1;33m\u001b[0m\u001b[1;33m\u001b[0m\u001b[0m\n\u001b[0m\u001b[0;32m    423\u001b[0m \u001b[1;33m\u001b[0m\u001b[0m\n\u001b[0;32m    424\u001b[0m     \u001b[1;33m@\u001b[0m\u001b[0mproperty\u001b[0m\u001b[1;33m\u001b[0m\u001b[1;33m\u001b[0m\u001b[0m\n",
      "\u001b[1;32mc:\\MLandDS\\bulldozer_pricing_project\\env\\lib\\site-packages\\sklearn\\tree\\_classes.py\u001b[0m in \u001b[0;36m_validate_X_predict\u001b[1;34m(self, X, check_input)\u001b[0m\n\u001b[0;32m    405\u001b[0m         \u001b[1;34m\"\"\"Validate the training data on predict (probabilities).\"\"\"\u001b[0m\u001b[1;33m\u001b[0m\u001b[1;33m\u001b[0m\u001b[0m\n\u001b[0;32m    406\u001b[0m         \u001b[1;32mif\u001b[0m \u001b[0mcheck_input\u001b[0m\u001b[1;33m:\u001b[0m\u001b[1;33m\u001b[0m\u001b[1;33m\u001b[0m\u001b[0m\n\u001b[1;32m--> 407\u001b[1;33m             X = self._validate_data(X, dtype=DTYPE, accept_sparse=\"csr\",\n\u001b[0m\u001b[0;32m    408\u001b[0m                                     reset=False)\n\u001b[0;32m    409\u001b[0m             if issparse(X) and (X.indices.dtype != np.intc or\n",
      "\u001b[1;32mc:\\MLandDS\\bulldozer_pricing_project\\env\\lib\\site-packages\\sklearn\\base.py\u001b[0m in \u001b[0;36m_validate_data\u001b[1;34m(self, X, y, reset, validate_separately, **check_params)\u001b[0m\n\u001b[0;32m    435\u001b[0m \u001b[1;33m\u001b[0m\u001b[0m\n\u001b[0;32m    436\u001b[0m         \u001b[1;32mif\u001b[0m \u001b[0mcheck_params\u001b[0m\u001b[1;33m.\u001b[0m\u001b[0mget\u001b[0m\u001b[1;33m(\u001b[0m\u001b[1;34m'ensure_2d'\u001b[0m\u001b[1;33m,\u001b[0m \u001b[1;32mTrue\u001b[0m\u001b[1;33m)\u001b[0m\u001b[1;33m:\u001b[0m\u001b[1;33m\u001b[0m\u001b[1;33m\u001b[0m\u001b[0m\n\u001b[1;32m--> 437\u001b[1;33m             \u001b[0mself\u001b[0m\u001b[1;33m.\u001b[0m\u001b[0m_check_n_features\u001b[0m\u001b[1;33m(\u001b[0m\u001b[0mX\u001b[0m\u001b[1;33m,\u001b[0m \u001b[0mreset\u001b[0m\u001b[1;33m=\u001b[0m\u001b[0mreset\u001b[0m\u001b[1;33m)\u001b[0m\u001b[1;33m\u001b[0m\u001b[1;33m\u001b[0m\u001b[0m\n\u001b[0m\u001b[0;32m    438\u001b[0m \u001b[1;33m\u001b[0m\u001b[0m\n\u001b[0;32m    439\u001b[0m         \u001b[1;32mreturn\u001b[0m \u001b[0mout\u001b[0m\u001b[1;33m\u001b[0m\u001b[1;33m\u001b[0m\u001b[0m\n",
      "\u001b[1;32mc:\\MLandDS\\bulldozer_pricing_project\\env\\lib\\site-packages\\sklearn\\base.py\u001b[0m in \u001b[0;36m_check_n_features\u001b[1;34m(self, X, reset)\u001b[0m\n\u001b[0;32m    363\u001b[0m \u001b[1;33m\u001b[0m\u001b[0m\n\u001b[0;32m    364\u001b[0m         \u001b[1;32mif\u001b[0m \u001b[0mn_features\u001b[0m \u001b[1;33m!=\u001b[0m \u001b[0mself\u001b[0m\u001b[1;33m.\u001b[0m\u001b[0mn_features_in_\u001b[0m\u001b[1;33m:\u001b[0m\u001b[1;33m\u001b[0m\u001b[1;33m\u001b[0m\u001b[0m\n\u001b[1;32m--> 365\u001b[1;33m             raise ValueError(\n\u001b[0m\u001b[0;32m    366\u001b[0m                 \u001b[1;34mf\"X has {n_features} features, but {self.__class__.__name__} \"\u001b[0m\u001b[1;33m\u001b[0m\u001b[1;33m\u001b[0m\u001b[0m\n\u001b[0;32m    367\u001b[0m                 f\"is expecting {self.n_features_in_} features as input.\")\n",
      "\u001b[1;31mValueError\u001b[0m: X has 101 features, but DecisionTreeRegressor is expecting 102 features as input."
     ]
    }
   ],
   "source": [
    "# make predictions\n",
    "y_preds = best_model[\"Tuned RandomForestRegressor\"].predict(df_test)"
   ]
  },
  {
   "cell_type": "code",
   "execution_count": 180,
   "id": "f8fd10dc",
   "metadata": {},
   "outputs": [
    {
     "name": "stdout",
     "output_type": "stream",
     "text": [
      "auctioneerID_is_missing\n"
     ]
    }
   ],
   "source": [
    "# look like test data is lacking some colmumns, let's look into it\n",
    "train_cols = set(X_train.columns)\n",
    "test_cols = set(df_test.columns)\n",
    "difference = train_cols.difference(test_cols)\n",
    "for i in difference:\n",
    "    print(i)"
   ]
  },
  {
   "cell_type": "code",
   "execution_count": 71,
   "id": "e6705cf4",
   "metadata": {},
   "outputs": [],
   "source": [
    "# The same story was with validation set\n",
    "df_test[\"auctioneerID_is_missing\"] = 0"
   ]
  },
  {
   "cell_type": "code",
   "execution_count": 182,
   "id": "8ea90aea",
   "metadata": {},
   "outputs": [],
   "source": [
    "# make predictions, again\n",
    "y_preds = best_model[\"Tuned RandomForestRegressor\"].predict(df_test)"
   ]
  },
  {
   "cell_type": "code",
   "execution_count": 74,
   "id": "8f478af3",
   "metadata": {},
   "outputs": [
    {
     "data": {
      "text/html": [
       "<div>\n",
       "<style scoped>\n",
       "    .dataframe tbody tr th:only-of-type {\n",
       "        vertical-align: middle;\n",
       "    }\n",
       "\n",
       "    .dataframe tbody tr th {\n",
       "        vertical-align: top;\n",
       "    }\n",
       "\n",
       "    .dataframe thead th {\n",
       "        text-align: right;\n",
       "    }\n",
       "</style>\n",
       "<table border=\"1\" class=\"dataframe\">\n",
       "  <thead>\n",
       "    <tr style=\"text-align: right;\">\n",
       "      <th></th>\n",
       "      <th>SalesID</th>\n",
       "      <th>SalePrice</th>\n",
       "    </tr>\n",
       "  </thead>\n",
       "  <tbody>\n",
       "    <tr>\n",
       "      <th>0</th>\n",
       "      <td>1227829</td>\n",
       "      <td>13630.0</td>\n",
       "    </tr>\n",
       "    <tr>\n",
       "      <th>1</th>\n",
       "      <td>1227844</td>\n",
       "      <td>32530.0</td>\n",
       "    </tr>\n",
       "    <tr>\n",
       "      <th>2</th>\n",
       "      <td>1227847</td>\n",
       "      <td>48660.0</td>\n",
       "    </tr>\n",
       "    <tr>\n",
       "      <th>3</th>\n",
       "      <td>1227848</td>\n",
       "      <td>96080.0</td>\n",
       "    </tr>\n",
       "    <tr>\n",
       "      <th>4</th>\n",
       "      <td>1227863</td>\n",
       "      <td>27440.0</td>\n",
       "    </tr>\n",
       "  </tbody>\n",
       "</table>\n",
       "</div>"
      ],
      "text/plain": [
       "   SalesID  SalePrice\n",
       "0  1227829    13630.0\n",
       "1  1227844    32530.0\n",
       "2  1227847    48660.0\n",
       "3  1227848    96080.0\n",
       "4  1227863    27440.0"
      ]
     },
     "execution_count": 74,
     "metadata": {},
     "output_type": "execute_result"
    }
   ],
   "source": [
    "# load y_test\n",
    "y_test = pd.read_csv(\"data/random_forest_benchmark_test.csv\")\n",
    "y_test.head()"
   ]
  },
  {
   "cell_type": "code",
   "execution_count": 186,
   "id": "c22aea2c",
   "metadata": {},
   "outputs": [
    {
     "name": "stdout",
     "output_type": "stream",
     "text": [
      "Coefficient of determination: 0.7346786961645335\n",
      "MSE: 154363048.21338832\n",
      "MAE: 7547.404749091107\n",
      "MSLE: 0.09010754825427941\n",
      "RMSLE: 0.30017919357323786\n",
      "Explained Variance score: 0.7619340212550169\n"
     ]
    }
   ],
   "source": [
    "# evaluate model on test data\n",
    "from utils import evaluate_preds_regression\n",
    "evaluate_preds_regression(y_test.drop(\"SalesID\", axis=1), y_preds);"
   ]
  },
  {
   "cell_type": "code",
   "execution_count": 189,
   "id": "1d0408ea",
   "metadata": {},
   "outputs": [],
   "source": [
    "# export model\n",
    "import pickle\n",
    "\n",
    "pickle.dump(best_model[\"Tuned RandomForestRegressor\"], open(\"models/tuned_RFR\", \"wb\"))"
   ]
  },
  {
   "cell_type": "markdown",
   "id": "131ae471",
   "metadata": {},
   "source": [
    "### Feature Importance"
   ]
  },
  {
   "cell_type": "code",
   "execution_count": 191,
   "id": "cf986f5b",
   "metadata": {},
   "outputs": [
    {
     "data": {
      "image/png": "[encoded data removed]",
      "text/plain": [
       "<Figure size 432x288 with 1 Axes>"
      ]
     },
     "metadata": {
      "needs_background": "light"
     },
     "output_type": "display_data"
    }
   ],
   "source": [
    "from importlib import reload\n",
    "import utils\n",
    "reload(utils)\n",
    "from utils import plot_feature_importance\n",
    "plot_feature_importance(X_train.columns,\n",
    "                        best_model[\"Tuned RandomForestRegressor\"].feature_importances_);"
   ]
  }
 ],
 "metadata": {
  "kernelspec": {
   "display_name": "Python 3",
   "language": "python",
   "name": "python3"
  },
  "language_info": {
   "codemirror_mode": {
    "name": "ipython",
    "version": 3
   },
   "file_extension": ".py",
   "mimetype": "text/x-python",
   "name": "python",
   "nbconvert_exporter": "python",
   "pygments_lexer": "ipython3",
   "version": "3.9.6"
  }
 },
 "nbformat": 4,
 "nbformat_minor": 5
}
